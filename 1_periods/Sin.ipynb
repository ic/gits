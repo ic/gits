{
 "cells": [
  {
   "cell_type": "code",
   "execution_count": null,
   "metadata": {
    "collapsed": false,
    "deletable": true,
    "editable": true
   },
   "outputs": [],
   "source": [
    "import math\n",
    "\n",
    "x = [ _x * 0.1 for _x in range(100000)]\n",
    "sin_x = [ math.sin(_x) for _x in x ]\n",
    "dataset = list(zip(x, sin_x))\n",
    "\n",
    "split = math.floor(len(dataset) * 0.8)\n",
    "training_data = dataset[0:split]\n",
    "test_data = dataset[split:]\n",
    "\n",
    "print(\"Training data: %d items.\" % len(training_data))\n",
    "print(\"Test data: %d items.\" % len(test_data))"
   ]
  },
  {
   "cell_type": "code",
   "execution_count": null,
   "metadata": {
    "collapsed": false,
    "deletable": true,
    "editable": true,
    "scrolled": true
   },
   "outputs": [],
   "source": [
    "import matplotlib.pyplot as plt"
   ]
  },
  {
   "cell_type": "code",
   "execution_count": null,
   "metadata": {
    "collapsed": false
   },
   "outputs": [],
   "source": [
    "plt.figure(num=1, figsize=(1800 / 80, 1000 / 80), dpi=80, facecolor='w', edgecolor='k')\n",
    "plt.plot(x, sin_x)\n",
    "end = max(x)\n",
    "plt.axis([end - 20, end, -1, 1])\n",
    "plt.show()"
   ]
  },
  {
   "cell_type": "code",
   "execution_count": null,
   "metadata": {
    "collapsed": true,
    "deletable": true,
    "editable": true
   },
   "outputs": [],
   "source": [
    "def test_ann(got, expected, tolerance):\n",
    "    if got < expected + tolerance and got > expected - tolerance:\n",
    "        return True\n",
    "    else:\n",
    "        return False"
   ]
  },
  {
   "cell_type": "code",
   "execution_count": null,
   "metadata": {
    "collapsed": true,
    "deletable": true,
    "editable": true
   },
   "outputs": [],
   "source": [
    "import tensorflow as tf"
   ]
  },
  {
   "cell_type": "code",
   "execution_count": null,
   "metadata": {
    "collapsed": true,
    "deletable": true,
    "editable": true
   },
   "outputs": [],
   "source": [
    "def train_and_evaluate(graph, tolerance=0.1):\n",
    "    with tf.Session(graph=graph) as session:\n",
    "        session.run(tf.global_variables_initializer())\n",
    "        for idx, data in enumerate(training_data):\n",
    "            _, current_loss = session.run([trainer, loss],\n",
    "                                    feed_dict={\n",
    "                                        x: data[0],\n",
    "                                        y_expected: data[1]\n",
    "                                    })\n",
    "        print(\"Final loss: %.10f\" % current_loss)\n",
    "\n",
    "        successes = 0\n",
    "        for data in training_data:\n",
    "            result = session.run(y, feed_dict={x: data[0]})\n",
    "            if test_ann(result[0], data[1], tolerance):\n",
    "                successes += 1\n",
    "        print(\"%.2f%% self successes.\" % (100.0 * successes / len(training_data)))\n",
    "        \n",
    "        successes = 0\n",
    "        tests = []\n",
    "        results = []\n",
    "        for data in test_data:\n",
    "            result = session.run(y, feed_dict={x: data[0]})\n",
    "            if test_ann(result[0], data[1], tolerance):\n",
    "                successes += 1\n",
    "            tests.append(data[0])\n",
    "            results.append(float(result[0]))\n",
    "        print(\"%.2f%% test successes.\" % (100.0 * successes / len(test_data)))\n",
    "        return (tests, results)"
   ]
  },
  {
   "cell_type": "code",
   "execution_count": null,
   "metadata": {
    "collapsed": false,
    "deletable": true,
    "editable": true
   },
   "outputs": [],
   "source": [
    "no_hidden = tf.Graph()\n",
    "with no_hidden.as_default():\n",
    "    Weights = tf.Variable(tf.random_uniform([1], -1.0, 1.0))\n",
    "    biases = tf.Variable(tf.zeros([1]))\n",
    "    \n",
    "    x = tf.placeholder(tf.float32)\n",
    "    y_expected = tf.placeholder(tf.float32)\n",
    "    y = tf.sigmoid(Weights * x + biases)\n",
    "    \n",
    "    loss = tf.reduce_mean(tf.square(y - y_expected))\n",
    "    optimizer = tf.train.GradientDescentOptimizer(0.01)\n",
    "    trainer = optimizer.minimize(loss)\n",
    "\n",
    "for tolerance in [0.1]:\n",
    "    print(\"Tolerance: %s\" % tolerance)\n",
    "    results_no_hidden = train_and_evaluate(no_hidden, tolerance)\n",
    "    print()"
   ]
  },
  {
   "cell_type": "code",
   "execution_count": null,
   "metadata": {
    "collapsed": false,
    "deletable": true,
    "editable": true
   },
   "outputs": [],
   "source": [
    "simple_hidden = tf.Graph()\n",
    "with simple_hidden.as_default():\n",
    "    front_layer = tf.Variable(tf.random_uniform([2, 1], -1.0, 1.0))\n",
    "    front_biases = tf.Variable(tf.zeros([1]))\n",
    "    hidden_layer = tf.Variable(tf.random_uniform([1, 2], -1.0, 1.0))\n",
    "    hidden_biases = tf.Variable(tf.zeros([1]))\n",
    "    \n",
    "    x = tf.placeholder(tf.float32)\n",
    "    y_expected = tf.placeholder(tf.float32)\n",
    "    inner_y = tf.sigmoid(front_layer * x + front_biases)\n",
    "    y = tf.sigmoid(tf.tensordot(hidden_layer, inner_y, axes=1) + hidden_biases)\n",
    "    \n",
    "    loss = tf.reduce_mean(tf.square(y - y_expected))\n",
    "    optimizer = tf.train.GradientDescentOptimizer(0.01)\n",
    "    trainer = optimizer.minimize(loss)\n",
    "\n",
    "for tolerance in [0.1]:\n",
    "    print(\"Tolerance: %s\" % tolerance)\n",
    "    results_simple_hidden = train_and_evaluate(simple_hidden, tolerance)\n",
    "    print()"
   ]
  },
  {
   "cell_type": "code",
   "execution_count": null,
   "metadata": {
    "collapsed": false,
    "deletable": true,
    "editable": true
   },
   "outputs": [],
   "source": [
    "def plot_against_sin(points):\n",
    "    x, y = points\n",
    "    plt.figure(num=1, figsize=(1800 / 80, 1000 / 80), dpi=80, facecolor='w', edgecolor='k')\n",
    "    plt.plot(x, [ math.sin(a) for a in x ])\n",
    "    plt.plot(x, y)\n",
    "    end = max(x)\n",
    "    plt.axis([end - 20, end, -1, 1])\n",
    "    plt.show()"
   ]
  },
  {
   "cell_type": "code",
   "execution_count": null,
   "metadata": {
    "collapsed": false
   },
   "outputs": [],
   "source": [
    "plot_against_sin(results_no_hidden)"
   ]
  },
  {
   "cell_type": "code",
   "execution_count": null,
   "metadata": {
    "collapsed": false
   },
   "outputs": [],
   "source": [
    "plot_against_sin(results_simple_hidden)"
   ]
  },
  {
   "cell_type": "code",
   "execution_count": null,
   "metadata": {
    "collapsed": true
   },
   "outputs": [],
   "source": [
    "chain_split = math.floor(len(sin_x) * 0.8)\n",
    "chain_training_data = sin_x[0:chain_split]\n",
    "chain_test_data = sin_x[chain_split:]\n",
    "\n",
    "def chain_train_and_evaluate(graph, chain_length=10, tolerance=0.1):\n",
    "    with tf.Session(graph=graph) as session:\n",
    "        session.run(tf.global_variables_initializer())\n",
    "        \n",
    "        n = chain_length + 1\n",
    "        chunks = [ chain_training_data[i:i + n] for i in range(0, len(chain_training_data), n) ]\n",
    "        \n",
    "        for data in chunks:\n",
    "            if len(data) < n:\n",
    "                print(\"No more data\")\n",
    "                break\n",
    "            _, current_loss = session.run([trainer, loss],\n",
    "                                    feed_dict={\n",
    "                                        x: data[0:-1],\n",
    "                                        y_expected: data[-1]\n",
    "                                    })\n",
    "        print(\"Final loss: %.10f\" % current_loss)\n",
    "\n",
    "        successes = 0\n",
    "        for data in chunks:\n",
    "            if len(data) < n:\n",
    "                print(\"No more data\")\n",
    "                break\n",
    "            result = session.run(y, feed_dict={x: data[0:-1]})\n",
    "            if test_ann(float(result[0]), data[-1], tolerance):\n",
    "                successes += 1\n",
    "        print(\"%.2f%% self successes.\" % (100.0 * successes / len(training_data)))\n",
    "        \n",
    "        successes = 0\n",
    "        xs = []\n",
    "        results = []\n",
    "        test_chunks = [ chain_test_data[i:i + n] for i in range(0, len(chain_test_data), n) ]\n",
    "        for x_, data in enumerate(test_chunks):\n",
    "            if len(data) < n:\n",
    "                print(\"No more data\")\n",
    "                break\n",
    "            result = session.run(y, feed_dict={x: data[0:-1]})\n",
    "            if test_ann(float(result[0]), data[-1], tolerance):\n",
    "                successes += 1\n",
    "            xs.append(x_)\n",
    "            results.append(float(result[0]))\n",
    "        print(\"%.2f%% test successes.\" % (100.0 * successes / len(test_data)))\n",
    "        return (xs, results)"
   ]
  },
  {
   "cell_type": "code",
   "execution_count": null,
   "metadata": {
    "collapsed": false
   },
   "outputs": [],
   "source": [
    "chain_len = 10\n",
    "simple_chain = tf.Graph()\n",
    "with simple_chain.as_default():\n",
    "    Weights = tf.Variable(tf.random_uniform([1, chain_len], -1.0, 1.0))\n",
    "    biases = tf.Variable(tf.zeros([1]))\n",
    "    \n",
    "    x = tf.placeholder(tf.float32, shape=(chain_len))\n",
    "    y_expected = tf.placeholder(tf.float32)\n",
    "    y = tf.sigmoid(tf.tensordot(Weights, x, axes=1) + biases)\n",
    "    \n",
    "    loss = tf.reduce_mean(tf.square(y - y_expected))\n",
    "    optimizer = tf.train.GradientDescentOptimizer(0.5)\n",
    "    trainer = optimizer.minimize(loss)\n",
    "\n",
    "for tolerance in [0.1]:\n",
    "    print(\"Tolerance: %s\" % tolerance)\n",
    "    results_simple_chain = chain_train_and_evaluate(simple_chain, chain_len, tolerance)\n",
    "    print()"
   ]
  },
  {
   "cell_type": "code",
   "execution_count": null,
   "metadata": {
    "collapsed": false
   },
   "outputs": [],
   "source": [
    "plot_against_sin(results_simple_chain)"
   ]
  },
  {
   "cell_type": "code",
   "execution_count": null,
   "metadata": {
    "collapsed": true
   },
   "outputs": [],
   "source": []
  }
 ],
 "metadata": {
  "kernelspec": {
   "display_name": "Python 3",
   "language": "python",
   "name": "python3"
  },
  "language_info": {
   "codemirror_mode": {
    "name": "ipython",
    "version": 3
   },
   "file_extension": ".py",
   "mimetype": "text/x-python",
   "name": "python",
   "nbconvert_exporter": "python",
   "pygments_lexer": "ipython3",
   "version": "3.6.0"
  }
 },
 "nbformat": 4,
 "nbformat_minor": 2
}
