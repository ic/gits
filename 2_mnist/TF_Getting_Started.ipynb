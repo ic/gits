{
 "cells": [
  {
   "cell_type": "code",
   "execution_count": 2,
   "metadata": {
    "collapsed": true,
    "deletable": true,
    "editable": true
   },
   "outputs": [],
   "source": [
    "import numpy as np\n",
    "import tensorflow as tf"
   ]
  },
  {
   "cell_type": "code",
   "execution_count": 3,
   "metadata": {
    "collapsed": true,
    "deletable": true,
    "editable": true
   },
   "outputs": [],
   "source": [
    "def model(features, labels, mode):\n",
    "  W = tf.get_variable(\"W\", [1], dtype=tf.float64)\n",
    "  b = tf.get_variable(\"b\", [1], dtype=tf.float64)\n",
    "  y = W*features['x'] + b\n",
    "\n",
    "  loss = tf.reduce_sum(tf.square(y - labels))\n",
    "\n",
    "  global_step = tf.train.get_global_step()\n",
    "  optimizer = tf.train.GradientDescentOptimizer(0.01)\n",
    "  train = tf.group(optimizer.minimize(loss),\n",
    "                   tf.assign_add(global_step, 1))\n",
    "\n",
    "  return tf.contrib.learn.ModelFnOps(\n",
    "      mode=mode, predictions=y,\n",
    "      loss= loss,\n",
    "      train_op=train)"
   ]
  },
  {
   "cell_type": "code",
   "execution_count": 4,
   "metadata": {
    "collapsed": false,
    "deletable": true,
    "editable": true
   },
   "outputs": [
    {
     "name": "stdout",
     "output_type": "stream",
     "text": [
      "WARNING:tensorflow:Using temporary folder as model directory: /var/folders/dy/7c6v04gn4x96qz9w1xrl_6r00000gn/T/tmpoybn89k8\n",
      "INFO:tensorflow:Using default config.\n",
      "INFO:tensorflow:Using config: {'_task_type': None, '_task_id': 0, '_cluster_spec': <tensorflow.python.training.server_lib.ClusterSpec object at 0x110abecf8>, '_master': '', '_num_ps_replicas': 0, '_environment': 'local', '_is_chief': True, '_evaluation_master': '', '_tf_config': gpu_options {\n",
      "  per_process_gpu_memory_fraction: 1\n",
      "}\n",
      ", '_tf_random_seed': None, '_save_summary_steps': 100, '_save_checkpoints_secs': 600, '_save_checkpoints_steps': None, '_keep_checkpoint_max': 5, '_keep_checkpoint_every_n_hours': 10000}\n"
     ]
    }
   ],
   "source": [
    "estimator = tf.contrib.learn.Estimator(model_fn=model)"
   ]
  },
  {
   "cell_type": "code",
   "execution_count": 6,
   "metadata": {
    "collapsed": true,
    "deletable": true,
    "editable": true
   },
   "outputs": [],
   "source": [
    "x=np.array([1., 2., 3., 4.])\n",
    "y=np.array([0., -1., -2., -3.])\n",
    "input_fn = tf.contrib.learn.io.numpy_input_fn({\"x\": x}, y, 4, num_epochs=1000)"
   ]
  },
  {
   "cell_type": "code",
   "execution_count": 7,
   "metadata": {
    "collapsed": false,
    "deletable": true,
    "editable": true
   },
   "outputs": [
    {
     "name": "stdout",
     "output_type": "stream",
     "text": [
      "INFO:tensorflow:Create CheckpointSaverHook.\n",
      "INFO:tensorflow:Saving checkpoints for 1 into /var/folders/dy/7c6v04gn4x96qz9w1xrl_6r00000gn/T/tmpoybn89k8/model.ckpt.\n",
      "INFO:tensorflow:loss = 0.424895802921, step = 1\n",
      "INFO:tensorflow:global_step/sec: 2064.12\n",
      "INFO:tensorflow:loss = 0.0792668755328, step = 101\n",
      "INFO:tensorflow:global_step/sec: 2079.69\n",
      "INFO:tensorflow:loss = 0.00603848900145, step = 201\n",
      "INFO:tensorflow:global_step/sec: 2208.71\n",
      "INFO:tensorflow:loss = 0.00036202840455, step = 301\n",
      "INFO:tensorflow:global_step/sec: 2141.97\n",
      "INFO:tensorflow:loss = 4.08605399419e-05, step = 401\n",
      "INFO:tensorflow:global_step/sec: 2147.5\n",
      "INFO:tensorflow:loss = 5.4667656654e-06, step = 501\n",
      "INFO:tensorflow:global_step/sec: 1959.59\n",
      "INFO:tensorflow:loss = 2.72385972128e-07, step = 601\n",
      "INFO:tensorflow:global_step/sec: 2190.49\n",
      "INFO:tensorflow:loss = 2.15417108011e-08, step = 701\n",
      "INFO:tensorflow:global_step/sec: 2226.73\n",
      "INFO:tensorflow:loss = 2.24755173835e-09, step = 801\n",
      "INFO:tensorflow:global_step/sec: 2604.35\n",
      "INFO:tensorflow:loss = 3.01495241773e-11, step = 901\n",
      "INFO:tensorflow:Saving checkpoints for 1000 into /var/folders/dy/7c6v04gn4x96qz9w1xrl_6r00000gn/T/tmpoybn89k8/model.ckpt.\n",
      "INFO:tensorflow:Loss for final step: 3.05904556976e-11.\n"
     ]
    },
    {
     "data": {
      "text/plain": [
       "Estimator(params=None)"
      ]
     },
     "execution_count": 7,
     "metadata": {},
     "output_type": "execute_result"
    }
   ],
   "source": [
    "estimator.fit(input_fn=input_fn, steps=1000)"
   ]
  },
  {
   "cell_type": "code",
   "execution_count": 8,
   "metadata": {
    "collapsed": false,
    "deletable": true,
    "editable": true
   },
   "outputs": [
    {
     "name": "stdout",
     "output_type": "stream",
     "text": [
      "INFO:tensorflow:Starting evaluation at 2017-03-13-04:47:07\n",
      "INFO:tensorflow:Evaluation [1/10]\n",
      "INFO:tensorflow:Evaluation [2/10]\n",
      "INFO:tensorflow:Evaluation [3/10]\n",
      "INFO:tensorflow:Evaluation [4/10]\n",
      "INFO:tensorflow:Evaluation [5/10]\n",
      "INFO:tensorflow:Evaluation [6/10]\n",
      "INFO:tensorflow:Evaluation [7/10]\n",
      "INFO:tensorflow:Evaluation [8/10]\n",
      "INFO:tensorflow:Evaluation [9/10]\n",
      "INFO:tensorflow:Evaluation [10/10]\n",
      "INFO:tensorflow:Finished evaluation at 2017-03-13-04:47:08\n",
      "INFO:tensorflow:Saving dict for global step 1000: global_step = 1000, loss = 1.92079e-11\n",
      "WARNING:tensorflow:Skipping summary for global_step, must be a float or np.float32.\n",
      "{'loss': 1.9207892e-11, 'global_step': 1000}\n"
     ]
    }
   ],
   "source": [
    "print(estimator.evaluate(input_fn=input_fn, steps=10))"
   ]
  },
  {
   "cell_type": "code",
   "execution_count": null,
   "metadata": {
    "collapsed": true
   },
   "outputs": [],
   "source": []
  }
 ],
 "metadata": {
  "kernelspec": {
   "display_name": "Python 3",
   "language": "python",
   "name": "python3"
  },
  "language_info": {
   "codemirror_mode": {
    "name": "ipython",
    "version": 3
   },
   "file_extension": ".py",
   "mimetype": "text/x-python",
   "name": "python",
   "nbconvert_exporter": "python",
   "pygments_lexer": "ipython3",
   "version": "3.6.0"
  }
 },
 "nbformat": 4,
 "nbformat_minor": 2
}
