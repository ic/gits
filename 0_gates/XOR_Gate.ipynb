{
 "cells": [
  {
   "cell_type": "code",
   "execution_count": null,
   "metadata": {
    "collapsed": true,
    "deletable": true,
    "editable": true
   },
   "outputs": [],
   "source": [
    "# ゲートのテストを定義しましょう\n",
    "def test_gate(gate, pin1, pin2, expected):\n",
    "    print(\"Testing %s(%s, %s) = %s ... \" % (gate.__name__, pin1, pin2, expected), end='')\n",
    "    if gate(pin1, pin2) == expected:\n",
    "        print(\"Success\")\n",
    "    else:\n",
    "        print(\"Failed\")"
   ]
  },
  {
   "cell_type": "code",
   "execution_count": null,
   "metadata": {
    "collapsed": false,
    "deletable": true,
    "editable": true
   },
   "outputs": [],
   "source": [
    "# XOR gate\n",
    "def xor_gate(pin1, pin2):\n",
    "    return (pin1 and not pin2) or (not pin1 and pin2)"
   ]
  },
  {
   "cell_type": "code",
   "execution_count": null,
   "metadata": {
    "collapsed": false,
    "deletable": true,
    "editable": true
   },
   "outputs": [],
   "source": [
    "test_gate(xor_gate, True, True, False)\n",
    "test_gate(xor_gate, True, False, True)\n",
    "test_gate(xor_gate, False, False, False)\n",
    "test_gate(xor_gate, False, True, True)"
   ]
  },
  {
   "cell_type": "code",
   "execution_count": null,
   "metadata": {
    "collapsed": false,
    "deletable": true,
    "editable": true
   },
   "outputs": [],
   "source": [
    "import math\n",
    "import random\n",
    "\n",
    "# [pin1, pin2, expected]\n",
    "dataset = [\n",
    "    [1.0, 1.0, 0.0],\n",
    "    [1.0, 0.0, 1.0],\n",
    "    [0.0, 0.0, 0.0],\n",
    "    [0.0, 1.0, 1.0],\n",
    "]\n",
    "\n",
    "true_threshold = 0.95\n",
    "for generation in range(10000):\n",
    "    pin1 = random.random() * (1 - true_threshold) + random.sample([true_threshold, 0.0], 1)[0]\n",
    "    pin2 = random.random() * (1 - true_threshold) + random.sample([true_threshold, 0.0], 1)[0]\n",
    "    if (pin1 > true_threshold and pin2 < (1 - true_threshold)) or (pin1 < (1 - true_threshold) and pin2 > true_threshold):\n",
    "        expect = 1.0\n",
    "    else:\n",
    "        expect = 0.0\n",
    "    #print(\"%.2f, %.2f -> %.2f\" % (pin1, pin2, expect))\n",
    "    dataset.append([pin1, pin2, expect])\n",
    "\n",
    "split = math.floor(len(dataset) * 0.8)\n",
    "training_data = dataset[0:split]\n",
    "test_data = dataset[split:]\n",
    "\n",
    "print(\"Training data: %d items.\" % len(training_data))\n",
    "print(\"Testing data: %d items.\" % len(test_data))\n",
    "\n",
    "# ANNゲートのテストを定義しましょう\n",
    "def test_ann_gate(got, pin1, pin2, expected, tolerance):\n",
    "    if got < expected + tolerance and got > expected - tolerance:\n",
    "        return True\n",
    "    else:\n",
    "        return False"
   ]
  },
  {
   "cell_type": "code",
   "execution_count": null,
   "metadata": {
    "collapsed": true,
    "deletable": true,
    "editable": true
   },
   "outputs": [],
   "source": [
    "import tensorflow as tf"
   ]
  },
  {
   "cell_type": "code",
   "execution_count": null,
   "metadata": {
    "collapsed": false,
    "deletable": true,
    "editable": true
   },
   "outputs": [],
   "source": [
    "def train_and_evaluate(graph, tolerance=0.1):\n",
    "    with tf.Session(graph=graph) as session:\n",
    "        session.run(tf.global_variables_initializer())\n",
    "        for idx, data in enumerate(training_data):\n",
    "            _, current_loss = session.run([trainer, loss],\n",
    "                                    feed_dict={\n",
    "                                        X: data[0:2],\n",
    "                                        y_expected: data[-1]\n",
    "                                    })\n",
    "        print(\"Final loss: %.10f\" % current_loss)\n",
    "\n",
    "        successes = 0\n",
    "        for data in training_data:\n",
    "            result = session.run(y, feed_dict={X: data[0:2]})\n",
    "            if test_ann_gate(result[0], data[0], data[1], data[2], tolerance):\n",
    "                successes += 1\n",
    "        print(\"%.2f%% self successes.\" % (100.0 * successes / len(training_data)))\n",
    "        \n",
    "        successes = 0\n",
    "        for data in test_data:\n",
    "            result = session.run(y, feed_dict={X: data[0:2]})\n",
    "            if test_ann_gate(result[0], data[0], data[1], data[2], tolerance):\n",
    "                successes += 1\n",
    "        print(\"%.2f%% test successes.\" % (100.0 * successes / len(test_data)))"
   ]
  },
  {
   "cell_type": "code",
   "execution_count": null,
   "metadata": {
    "collapsed": false,
    "deletable": true,
    "editable": true
   },
   "outputs": [],
   "source": [
    "no_hidden = tf.Graph()\n",
    "with no_hidden.as_default():\n",
    "    Weights = tf.Variable(tf.random_uniform([1, 2], -1.0, 1.0))\n",
    "    biases = tf.Variable(tf.zeros([1]))\n",
    "    \n",
    "    X = tf.placeholder(tf.float32, shape=(2))\n",
    "    y_expected = tf.placeholder(tf.float32)\n",
    "    y = tf.sigmoid(tf.tensordot(Weights, X, axes=1) + biases)\n",
    "    \n",
    "    loss = tf.reduce_mean(tf.square(y - y_expected))\n",
    "    optimizer = tf.train.GradientDescentOptimizer(0.2)\n",
    "    trainer = optimizer.minimize(loss)\n",
    "\n",
    "for tolerance in [0.1, 0.01, 0.001]:\n",
    "    print(\"Tolerance: %s\" % tolerance)\n",
    "    train_and_evaluate(no_hidden, tolerance)\n",
    "    print()"
   ]
  },
  {
   "cell_type": "code",
   "execution_count": null,
   "metadata": {
    "collapsed": false,
    "deletable": true,
    "editable": true
   },
   "outputs": [],
   "source": [
    "simple_hidden = tf.Graph()\n",
    "with simple_hidden.as_default():\n",
    "    front_layer = tf.Variable(tf.random_uniform([2, 2], -1.0, 1.0))\n",
    "    front_biases = tf.Variable(tf.zeros([1]))\n",
    "    hidden_layer = tf.Variable(tf.random_uniform([1, 2], -1.0, 1.0))\n",
    "    hidden_biases = tf.Variable(tf.zeros([1]))\n",
    "    \n",
    "    X = tf.placeholder(tf.float32, shape=(2))\n",
    "    y_expected = tf.placeholder(tf.float32)\n",
    "    inner_y = tf.sigmoid(tf.tensordot(front_layer, X, axes=1) + front_biases)\n",
    "    y = tf.sigmoid(tf.tensordot(hidden_layer, inner_y, axes=1) + hidden_biases)\n",
    "    \n",
    "    loss = tf.reduce_mean(tf.square(y - y_expected))\n",
    "    optimizer = tf.train.GradientDescentOptimizer(0.2)\n",
    "    trainer = optimizer.minimize(loss)\n",
    "\n",
    "for tolerance in [0.1, 0.01, 0.001]:\n",
    "    print(\"Tolerance: %s\" % tolerance)\n",
    "    train_and_evaluate(simple_hidden, tolerance)\n",
    "    print()"
   ]
  },
  {
   "cell_type": "code",
   "execution_count": null,
   "metadata": {
    "collapsed": true,
    "deletable": true,
    "editable": true
   },
   "outputs": [],
   "source": []
  },
  {
   "cell_type": "code",
   "execution_count": null,
   "metadata": {
    "collapsed": true,
    "deletable": true,
    "editable": true
   },
   "outputs": [],
   "source": []
  }
 ],
 "metadata": {
  "kernelspec": {
   "display_name": "Python 3",
   "language": "python",
   "name": "python3"
  },
  "language_info": {
   "codemirror_mode": {
    "name": "ipython",
    "version": 3
   },
   "file_extension": ".py",
   "mimetype": "text/x-python",
   "name": "python",
   "nbconvert_exporter": "python",
   "pygments_lexer": "ipython3",
   "version": "3.6.0"
  }
 },
 "nbformat": 4,
 "nbformat_minor": 2
}
